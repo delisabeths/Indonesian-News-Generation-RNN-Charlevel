{
 "cells": [
  {
   "cell_type": "markdown",
   "metadata": {},
   "source": [
    "# Indonesian News Generator\n",
    "\n",
    "Trained with RNN LSTM on PyTorch.\n",
    "\n",
    "To do :\n",
    "- Add more data, for validation and test\n",
    "- Add more measurement to evaluate trained model (e.g. perplexity)\n",
    "- Explore more criterion Loss Function\n",
    "- Bayesian optimization on hyperparameter using Gaussian Process"
   ]
  },
  {
   "cell_type": "markdown",
   "metadata": {},
   "source": [
    "## Preparation"
   ]
  },
  {
   "cell_type": "code",
   "execution_count": 1,
   "metadata": {
    "collapsed": false
   },
   "outputs": [],
   "source": [
    "# import library needed\n",
    "import unidecode\n",
    "import string\n",
    "import random\n",
    "import re\n",
    "import time, math\n",
    "\n",
    "import torch\n",
    "import torch.nn as nn\n",
    "from torch.autograd import Variable"
   ]
  },
  {
   "cell_type": "code",
   "execution_count": 2,
   "metadata": {
    "collapsed": false
   },
   "outputs": [],
   "source": [
    "# read file into one big string\n",
    "tdata = open('news_indo_edit.txt').read()"
   ]
  },
  {
   "cell_type": "code",
   "execution_count": 3,
   "metadata": {
    "collapsed": true
   },
   "outputs": [],
   "source": [
    "#define parameter for running\n",
    "chunk_len = 60\n",
    "batch_size = 30\n",
    "all_characters = string.printable\n",
    "n_char = len(all_characters)\n",
    "\n",
    "n_epochs = 20\n",
    "hidden_size = 120\n",
    "n_layers = 3\n",
    "lr = 1e-3\n",
    "clip = 0.25\n",
    "\n",
    "print_every = 200"
   ]
  },
  {
   "cell_type": "code",
   "execution_count": 4,
   "metadata": {
    "collapsed": false
   },
   "outputs": [],
   "source": [
    "data = \"\"\n",
    "for char in tdata:\n",
    "    if char in all_characters:\n",
    "        data += char"
   ]
  },
  {
   "cell_type": "code",
   "execution_count": 5,
   "metadata": {
    "collapsed": false
   },
   "outputs": [],
   "source": [
    "def get_chunk(start_index, chunk_len, data):\n",
    "    end_index = start_index + chunk_len + 1\n",
    "    return data[start_index:end_index]"
   ]
  },
  {
   "cell_type": "code",
   "execution_count": 6,
   "metadata": {
    "collapsed": false
   },
   "outputs": [],
   "source": [
    "# turn string into list of longs\n",
    "def char_tensor(string):\n",
    "    tensor = torch.zeros(len(string)).long()\n",
    "    for c in range(len(string)):\n",
    "        tensor[c] = all_characters.index(string[c])\n",
    "    return tensor\n",
    "\n",
    "def get_tensor_pair(start_index, chunk_len, data):    \n",
    "    chunk = get_chunk(start_index, chunk_len, data)\n",
    "    inp = char_tensor(chunk[:-1])\n",
    "    target = char_tensor(chunk[1:])\n",
    "    return inp, target"
   ]
  },
  {
   "cell_type": "code",
   "execution_count": 7,
   "metadata": {
    "collapsed": false
   },
   "outputs": [],
   "source": [
    "def generate_batch(start_index, chunk_len, batch_size, data):\n",
    "    inps = torch.zeros(chunk_len,batch_size).long()\n",
    "    targets = torch.zeros(chunk_len,batch_size).long()\n",
    "    for i in range(batch_size):\n",
    "        inp, target = get_tensor_pair(start_index, chunk_len, data)\n",
    "        inps[:,i] = inp\n",
    "        targets[:,i] = target\n",
    "        start_index += chunk_len\n",
    "    # uncomment to do this with CPU\n",
    "    #return Variable(inps), Variable(targets)\n",
    "    return Variable(inps.cuda()), Variable(targets.cuda())"
   ]
  },
  {
   "cell_type": "markdown",
   "metadata": {},
   "source": [
    "## Build the Model"
   ]
  },
  {
   "cell_type": "code",
   "execution_count": 8,
   "metadata": {
    "collapsed": false
   },
   "outputs": [],
   "source": [
    "class RNN(nn.Module):\n",
    "    def __init__(self, input_size, hidden_size, output_size, n_layers=1, dropout=0.2):\n",
    "        super(RNN, self).__init__()\n",
    "        self.input_size = input_size\n",
    "        self.hidden_size = hidden_size\n",
    "        self.output_size = output_size\n",
    "        self.n_layers = n_layers\n",
    "        self.dropout = dropout\n",
    "        \n",
    "        self.encoder = nn.Embedding(input_size, hidden_size)\n",
    "        self.lstm = nn.LSTM(hidden_size, hidden_size, n_layers, dropout=dropout)\n",
    "        self.decoder = nn.Linear(hidden_size, output_size)\n",
    "    \n",
    "    def forward(self, input, hidden, cell, batch_size, chunk_len):\n",
    "        input = self.encoder(input)\n",
    "        output, (hidden, cell) = self.lstm(input, (hidden, cell))\n",
    "        output = self.decoder(output.view(batch_size * chunk_len,-1))\n",
    "        return output, hidden, cell\n",
    "\n",
    "    def init_hidden(self, batch_size):\n",
    "        h0 = Variable(torch.zeros(n_layers, batch_size, hidden_size).cuda())\n",
    "        c0 = Variable(torch.zeros(n_layers, batch_size, hidden_size).cuda())\n",
    "        return h0, c0"
   ]
  },
  {
   "cell_type": "markdown",
   "metadata": {},
   "source": [
    "## Evaluation"
   ]
  },
  {
   "cell_type": "code",
   "execution_count": 9,
   "metadata": {
    "collapsed": false
   },
   "outputs": [],
   "source": [
    "def evaluate(prime_str='A', predict_len=100, temperature=0.8):\n",
    "    hidden, cell = decoder.init_hidden(1)\n",
    "    prime_input = char_tensor(prime_str)\n",
    "    prime_input = Variable(prime_input.cuda())\n",
    "    predicted = prime_str\n",
    "    \n",
    "    if len(prime_input) != 1:\n",
    "        _, hidden, cell = decoder(prime_input[:-1].unsqueeze(1), hidden, cell, 1, len(prime_str)-1)\n",
    "    \n",
    "    inp = prime_input[-1]\n",
    "    \n",
    "    for p in range(predict_len):\n",
    "        output, hidden, cell = decoder(inp.unsqueeze(1), hidden, cell, 1, 1)\n",
    "        \n",
    "        # Sample from the network as a multinomial distribution\n",
    "        output_dist = output.data.view(-1, n_char).div(temperature).exp()\n",
    "        top_i = torch.multinomial(output_dist, 1)[0][0]\n",
    "        \n",
    "        # Add predicted character to string and use as next input\n",
    "        predicted_char = all_characters[top_i]\n",
    "        predicted += predicted_char\n",
    "        inp = char_tensor(predicted_char)\n",
    "        inp = Variable(inp.cuda())\n",
    "\n",
    "    return predicted"
   ]
  },
  {
   "cell_type": "markdown",
   "metadata": {},
   "source": [
    "## Training"
   ]
  },
  {
   "cell_type": "code",
   "execution_count": 10,
   "metadata": {
    "collapsed": true
   },
   "outputs": [],
   "source": [
    "def time_since(since):\n",
    "    now = time.time()\n",
    "    s = now - since\n",
    "    m = math.floor(s / 60)\n",
    "    s -= m * 60\n",
    "    return '%dm %ds' % (m, s)"
   ]
  },
  {
   "cell_type": "code",
   "execution_count": 11,
   "metadata": {
    "collapsed": false
   },
   "outputs": [],
   "source": [
    "resume = True\n",
    "\n",
    "if resume:\n",
    "    decoder = torch.load('saved_model/checkpoint_100.tar')\n",
    "else:\n",
    "    decoder = RNN(n_char, hidden_size, n_char, n_layers)\n",
    "    \n",
    "decoder_optimizer = torch.optim.Adam(decoder.parameters(), lr=lr)\n",
    "criterion = nn.CrossEntropyLoss()"
   ]
  },
  {
   "cell_type": "code",
   "execution_count": 12,
   "metadata": {
    "collapsed": false
   },
   "outputs": [
    {
     "data": {
      "text/plain": [
       "RNN (\n",
       "  (encoder): Embedding(100, 120)\n",
       "  (lstm): LSTM(120, 120, num_layers=3, dropout=0.2)\n",
       "  (decoder): Linear (120 -> 100)\n",
       ")"
      ]
     },
     "execution_count": 12,
     "metadata": {},
     "output_type": "execute_result"
    }
   ],
   "source": [
    "decoder.cuda()"
   ]
  },
  {
   "cell_type": "code",
   "execution_count": 13,
   "metadata": {
    "collapsed": true
   },
   "outputs": [],
   "source": [
    "def train(inp, target, hidden, cell):\n",
    "    h0, c0 = decoder.init_hidden(batch_size)\n",
    "    decoder.zero_grad()\n",
    "    loss = 0\n",
    "\n",
    "    output, hidden, cell = decoder(inp, hidden, cell, batch_size, chunk_len)\n",
    "    loss = criterion(output.view(-1, n_char), target.view(-1))\n",
    "\n",
    "    loss.backward()\n",
    "    torch.nn.utils.clip_grad_norm(decoder.parameters(), clip)\n",
    "    for p in decoder.parameters():\n",
    "        p.data.add_(-lr, p.grad.data)\n",
    "\n",
    "    decoder_optimizer = torch.optim.Adam(decoder.parameters(), lr=lr)\n",
    "    decoder_optimizer.step()\n",
    "\n",
    "    return loss.data[0], hidden, cell"
   ]
  },
  {
   "cell_type": "code",
   "execution_count": 14,
   "metadata": {
    "collapsed": true
   },
   "outputs": [],
   "source": [
    "def repackage_hidden(h, c):\n",
    "    \"\"\"Wraps hidden states in new Variables, to detach them from their history.\"\"\"\n",
    "    if type(h) == Variable:\n",
    "        return Variable(h.data), Variable(c.data)\n",
    "    else:\n",
    "        return tuple(repackage_hidden(v) for v in h), tuple(repackage_hidden(u) for u in c)"
   ]
  },
  {
   "cell_type": "code",
   "execution_count": 117,
   "metadata": {
    "collapsed": false,
    "scrolled": false
   },
   "outputs": [
    {
     "name": "stdout",
     "output_type": "stream",
     "text": [
      "[0m 0s (1 0%) 1.5127]\n",
      "('KOMPAS.com - Satu ini.\\nDia mengontorini melakukan sekarang semis mungkin, bersalah penjadi tidak negara di pada jadi orang merurikan mengambah setak dan ini berkapan.\\nSaya menggunakan menyebut sekitar bagi kemenamanan dipersistarangan pemerintah di Kaburat resmi membandung.\\nMana terangkak tersebut.\\nSemampu me', '\\n')\n",
      "[1m 31s (1 19%) 1.7419]\n",
      "('KOMPAS.com - AS juga mendapatkan terbeda darikan kejuaraan di Desember mengatakan Gan sebuah politik seperti namun oleh Penting, Bandar Ferten Madrid (ES).\\nBersubut yang dipada gransdingan dan penumpang dihasil di untuk menerima.\\nSementara tersebut.\\n\"Kami tersebut digunakan, \"jamta Polkadd, cetangan tahun dan', '\\n')\n",
      "[3m 1s (1 39%) 1.5320]\n",
      "('KOMPAS.com - Kapanlagi.com - Mereka trial.\\n\\nMerdeka.com - Kapanlagi.com - Pertama Sekan membuat keras mengelalu bersama ada Brahaya Selasa di Pusobaerana.\\n\"Kapala porsi jelas di sekitar malam sisi dari pasaran yang pintang sepertinya kami,\" tatpang, penting, termodi berpernah seperti bungka sepak yang bersang', '\\n')\n",
      "[4m 31s (1 59%) 1.6492]\n",
      "('KOMPAS.com - Kenahian berhak imarok mengemangkan dengan pertanjutan pesas didengar, kami dipertatakan apalagi dibangun yang menyigutkan lainnya.\\nBahwa semangka pemainakan ingin mengebaikan saya perbuduhan harga tidak membayar lintas merupakan perapohan.\\nDemikian setelah mempunyai kekataan yang dihuli bagi Nah', '\\n')\n",
      "[6m 1s (1 79%) 1.7096]\n",
      "('KOMPAS.com - Galah Perusahaan Utara menjadi mentah sampai per itu, satu lagi, di kembali ke juga keputusan setiang bermentas pengawasan ini bantuan kemarin di dalam untuk mengaku dia guna saya mereka diranggap dan kesempatan, kelemakan yang akan menghalamkan dapat berbetak ke dari pembukaan yang mendapatkan u', '\\n')\n",
      "[7m 31s (1 99%) 1.6331]\n",
      "('KOMPAS.com - A-PPS) keluarga tahap pucai di pelaku lebih bertampil diminta hari seperti hasil kami dimenangkap terbaik kempat dalam coba mengusung tidak melasang pengumpunan pertama terlabuh pengemudian di Inter Hartemus, dari Partai Kesuasaan dengan Pastidi laga tersebut dipunggap sudah dan akan terbukti ber', '\\n')\n",
      "[9m 0s (2 19%) 1.6429]\n",
      "('KOMPAS.com - Pusat haknya kanten Sali sekitar 2008.\\nBanyak dari Solyy bertahera.\\nPada bagi dan perangan dan buatnya memberikan prampakan keselamasan mengatakan, dengan saya menghadapi korban assel kepodisian partai pengungkah oleh bangsa fersebut dalam pemberianan oleh - Panas mengatakan akhirnya sama diandat', '\\n')\n",
      "[10m 30s (2 39%) 1.5877]\n",
      "('KOMPAS.com - Partai PoleFoti Baratan memang bagung PBP yang mengantarkan stebuah dana pembuatan di brasik kand ke penjola saat menimpilkan lain dan terus mereka mengatakan manjang ini.\\nAntara dalam di selama menyelamatkan akan tidak menyebuti penyelumsi, kami memang langsung ke Perupa mengingat pami pengisiaa', '\\n')\n",
      "[11m 31s (2 59%) 1.6142]\n",
      "('KOMPAS.com - Kapanlagi jalah tersebut.\\n\"Saya di labu biaya baik sebagai atau itu menjadi warga setelah mau orangnya dininlangi setelah dengan bunggu pengembangan bisa disebut sebagai prestasi kiri.\\n\"Karena diterima mantan skian seperti ikut berlangsung dipermingkatkan saya, ujar pla penerbapan Rp itu, akan me', '\\n')\n",
      "[12m 28s (2 79%) 1.5508]\n",
      "('KOMPAS.com - Sejak tersebut dengan partai dalam perawatan kali,\" ujarnya, pada politik dari bentuk gedung masyarakat pelaku bantuan di Sambung,.\\nPada pengangkasan gerasa menang untuk bahwa meninggalnya.\\n\"Mereka menjadi, dari sebelah penyendaratan nasional pulih dengan kepada Gercon USN pada pembaga tegah 1 be', '\\n')\n",
      "[13m 25s (2 99%) 1.7417]\n",
      "('KOMPAS.com - Kembali di lalu, dan sekalinya herbuka pihak sputasi lalu bertahan seperti menjadi mengunjungkan kebemainan itu terbiakan kemarin kelawaran orang dengan persen melakukan tiga bagi menganding saya dan karena dibakiskan dinyadi sebagai Fendera di enggak pertama di dalam berada diherakan di setembaw', '\\n')\n",
      "[14m 22s (3 19%) 1.8232]\n",
      "('KOMPAS.com - Kompol untuk memenangkan pementara pengempanan baru (11/8).\\nJakarta editis dari pemerintah ke Remancan Agustol Nome dengan di kapan perjarakan ekonomi karpung kernas selalu mengenai klub tina sebagai Presiden Ranolo yang bidang mengulahkan satu penggunaan pertama.\\nSeharga banyak baik musim seseca', '\\n')\n",
      "[15m 31s (3 39%) 1.6147]\n",
      "('KOMPAS.com - Kapanlagi.com - Ke resissiasi tersebut.\\nAnggai pendapat dan serta penyerangan tersebut di Jekter Brida yang ditahan ng tidak berkeperti mereka-langka bahwa banyak tersebut terakhir, memberikan \"\"Kedua timnya sebagai mengatakan dari gempa sejak masih menjelaskan juga akan memeriskan, menimbapkan s', '\\n')\n",
      "[17m 1s (3 59%) 1.5640]\n",
      "('KOMPAS.com - Sebagai partai dari satu serta negara di Wakida Kehaliano, Barke.\\nDi nilai duru jelas aikan.\\nStulil Indonesia, tersangka liar ini.\\n\"Sebelumnya menolak bola dibawa yang akan menyebut kepada tampirnya.\\nNamun, yang tidak menghadapi eponisial siapanya mengatakan, Furhami Serang Insinesia, pelatih kem', '\\n')\n",
      "[18m 31s (3 79%) 1.5615]\n",
      "('KOMPAS.com - langkah hari kembang berbaik dengan langsung selama dari dan negara agar membela gol yang memasak proses penembelera Raya (\\nBayau sebagai sukses oleh mengelalukan buat memilih terkait lalu.\\n\"Menurut Presiden menyelapaikan petugas kualisasi saya terakhir memang dan musim lebih akan disampaikan sis', '\\n')\n",
      "[19m 44s (3 99%) 1.6274]\n",
      "('KOMPAS.com - Kapanlagi.com - Kapanlagi.com -- Masudi memberikan kemampuan durasi, penyeyaita terjadi pihak menambah apakah dua setentu anak teknitarisi dan \"Madalah Kota Prosee dan 2,35 pada tidak adanya diri perbangunan terbuka masih langsung 30 bahusata juga benda mereka menganggap pisang disuku beberapa pa', '\\n')\n",
      "[21m 7s (4 19%) 1.6467]\n",
      "('KOMPAS.com - Kapanladi.\\n\"Rini di Sanion termasuk itu, siapa, telah memenangkan setak berbeda tersebut di Indonesia yang diketahui kepada peristiwa pedakit sebagai satu perlu ini juga menganakan tak depan.\\nDi suara Notom, Suira, seleban, dalam sebat gendur mantan terhadap Jelantan Perima Ketue Persima United h', '\\n')\n",
      "[22m 37s (4 39%) 1.5640]\n",
      "('KOMPAS.com - Kapanlagi.com - Kapanlagi.com - Kapanlagi.com - Kapanlagi.com - Kapanlagi.com - Kekalahan yang dilakukan respon cukup ini terlebih sepakbola dan baru ketas besar menyebalu masih menunda menyak sekali ini sangat mendapatkan ketika sendiri dengan negara pengaruhan penjara dari mulainya.\\n(yang)\\n\\nMar', '\\n')\n",
      "[24m 7s (4 59%) 1.5248]\n",
      "('KOMPAS.com - Mereka memindahkan ketika eder bersama pantai, modotati guna dengan membalah put jadi kesempatan disejahkan hares, tertanggu, perambaknya melakukan keben untuk sempat menangkap produsek setelah tugas 2003, itu dikatakan menggunakan kerasan Penyelesai, Kontruksi perkombangan pakaikan dengan menggu', '\\n')\n",
      "[25m 15s (4 79%) 1.6817]\n",
      "('KOMPAS.com - Narman Barat di Indonesia semua, dengan mengaku mengatakan mencapepsi dia menundakan belum masih akan terbuka sejumlah sistara 20 dengan satu-masih mencapai perkiraan ke kota lebih lalu,\" ujarnya.\\n\\nMerdeka.com - Kapanlagi.com - Kakta Ten Jepang Kergi Suamen menurut Benggarang p liga sebagai apala', '\\n')\n",
      "[26m 45s (4 99%) 1.5343]\n",
      "('KOMPAS.com - Kiperti Liverdonong B tahun tandas nyangkul jamaenjadi di butuh tim seperti satu giap dalam bagian sagai mengaksaran sanggup sendari laju,\" tuturnya kalau dianternancaran kendaraan ke dan pihak pemperkempatan mencoba atau DBPK Moyen Mewatro dan musim tersebut, tidak menyelesaikan saya jubat.\\nAksi', '\\n')\n",
      "[27m 42s (5 19%) 1.5757]\n",
      "('KOMPAS.com - Tidak pemeriksaan, masa mereka di peringkat sejak semakin dilantan petanggapan dia pada Liga Barat, baik bisa akan meningkat bersumana orang keras, juga terjadi untuk ini melakukan aksi operasi yang telah mengalami pemilihan mengenai karena tersebut akan dikatakan sebagai luar di Inggris,\" kata K', '\\n')\n",
      "[28m 39s (5 39%) 1.5464]\n",
      "('KOMPAS.com - Unpi telah mengaku berharap hati.\\nPelampuan eksisis dengan sebelumnya juara dipertahankan kuat hanya juga dipastikan perempuan pada Hotol, dari satu tidak ini berlain melakukan Agung di lain, di Bharas juga mengancam berharap menangkap di tambahannya adalah karena agtas meletari dari upaya bukti ', '\\n')\n",
      "[29m 36s (5 59%) 1.5434]\n",
      "('KOMPAS.com - Mabyakeradih Persebut yang tercentok ganya banyak ada tahun di kedua dapat memiliki main sunda berbuat dengan pengajuan punya menumpang utama karena terjadi berhasil dengan seluruh menergai seperti sendiri di Anda menegaskan dari saya tidak menggelar kami miliar Mar, semua ketika, masih dilikikan', '\\n')\n",
      "[30m 53s (5 79%) 1.5651]\n",
      "('KOMPAS.com - Kapanlagi.com - nama asal akan dilakukan resmi perpasangan dengan pasal untuk mengaku seharusnya mengenai habil Bones pada lipas menyengatakan perpantah dan terbanyaknya berlalu dalam kebicaraan menggarap perifuhan berlaku tidak tergerah mengatakan burukan berbagai mengulah harga tak membuat meni', '\\n')\n",
      "[32m 22s (5 99%) 1.5840]\n",
      "('KOMPAS.com - jalan.\\nPada persen galangan karis.\\n\"Tiap tidak dicelak dengan penenting menjadi kerja rasa tidak dilanggung pengharapan Komenengan itu melakukan pengempan kepada mengetahui menjadi Dalembasnya dan bola kalapusap tersebut.\\n\"valing 15\" rama.\\n\"Dia melakukan bahwa \"mereka diposisi dari masa tahun Min', '\\n')\n",
      "[33m 47s (6 19%) 1.4643]\n",
      "('KOMPAS.com - Ukakan kembali adalah hanya membantu.\\nDampak penggunaan saja terbaik dan persayaan dengan ke dalam dari korban mengaku menyebut produk selalu.\\n\" namun masuk hanya mencetak resmi tersebut terlaku membarip terbisa terlangsung kembali berbagai pukeratas Metrus dan sementara dari peningkatan tidak me', '\\n')\n",
      "[34m 53s (6 39%) 1.5869]\n",
      "('KOMPAS.com - Kabar itu seperti di lalu.\\n\"Saya terlalu saat tak diberikan ke yang tidak mereka kalau dua Puran Dunia, menunggu hanya Eroran.\\n23 juta pihak yang berusia ini, kecil karena sejak hari berusia sekitar kembali memberikan setelah impan berprofesian tim aku sumpa yang menangkap besar pertandingan tida', '\\n')\n",
      "[36m 23s (6 59%) 1.4545]\n",
      "('KOMPAS.com - Basalan Agung Jumat (SPR) Pamus Tule itu, Melenaraga Bang di cirakan itu di tetapi, mengebutkan dari pemukul di langsung di untuk menjadi lain, berakhir di Manceran Prisung Masingernur tersebut, nakma dibantukan dari orakiling.\\nPuda kembali dalam tahun mengatakan menurut Diliktel dengan batak.\\nNa', '\\n')\n",
      "[37m 53s (6 79%) 1.5495]\n",
      "('KOMPAS.com - Arema Perlu dalam pihaknya tidak seksestara setelah di sisoner Dereg.\\nSedangkan kenamanan yang dibuat itu.\\n\"Jadi.\\nTak dengan panggal Grog Melahara, Senin (22/12).\\n\" untuk menjadi kulit sendiri semua mereka hanya menjadi meraih haruh menggelar para calforli kan dari saat itu.\\nWaktu yang merasa pen', '\\n')\n",
      "[39m 21s (6 99%) 1.4707]\n",
      "('KOMPAS.com -- Kapanlagi.com - (Minggu)\\n\\nSementara itu.\\nTerkait kurang pertanggung selama itu yang berjalan pidana yang memberi kosfrid ini di Dalem 2005 meberikan seperti Syandur suara sempat pertemuan dengan pengestasa dari klub dan menampak dirasa dari embala sampai punuh tahun juga membuat masyarakat tidak', '\\n')\n",
      "[40m 50s (7 19%) 1.6095]\n",
      "('KOMPAS.com - Kesejahataan di atas peralahan tidak menghelaskan relmang dan kecematin kerasan tak edilan lalu.\\nKarena lebih yang dan kandang menurut kompetisi akan saat memberikan baru menit mengalami posisi tak balap bernegara dua di untuk berat menghadapi tersebut.\\nDari sisi obat di kekuatan.\\nDengan salah pe', '\\n')\n",
      "[42m 23s (7 39%) 1.6003]\n",
      "('KOMPAS.com - Kemenali berada buruh bisa mengaku ke Agustus sisi tersebut diumumkan dan pemain itu,\" katanya.\\nTidak akan dilakukan pemberiina berat dilakukan kami berbagi beberapa pemain sendiri lainnya menyimpankan Tanah Usaha Tuman dengan Presiden Semasik dia janji masih meningkatkan kualitas saat digunakan ', '\\n')\n",
      "[43m 53s (7 59%) 1.6884]\n",
      "('KOMPAS.com - Kapanlagi.com - Ke Komisi Nasional Tue, Rooner Athhepan Selatan Pakkitah dari Maria Kemarang.\\nAkan menjadi musim ini adalah persoatan mabyoh gidarina yang sejak mulai menjadi berminggu di bantah dari pemerintah terjadi.\\nIni saksi akan menambut pada geberambang di luar setelah kembali mencapai kem', '\\n')\n",
      "[45m 22s (7 79%) 1.6858]\n",
      "('KOMPAS.com - Kebandingan, Kepemilikan antara maskapa yang memberikan sebagai pada saat ini produksi Cina melebihkan untuk melasan sependinya,\" tambahnya.\\nSetelah lihol dengan setagul sebelumnya harus menangi keras itu mencalarkan 132 persen pencetak berengah memberikan perseputusur dan pusul weat, dan Pemerik', '\\n')\n",
      "[46m 51s (7 99%) 1.5214]\n",
      "('KOMPAS.com - Pelatih Pikulan Dimipes harga penghasilan dan kali terdakwa berjuara itu mengatakan biasa dari pelasingan untuk memberikan ektin ke asal Wiawan di Senin Mesdo baru tiga informasi yang tadi sabit tersebut sekaligus terjadi dengan perifikasan itu, juga dipersiapkan kekailan pertama dan berada di ke', '\\n')\n",
      "[48m 21s (8 19%) 1.5654]\n",
      "('KOMPAS.com - Asang yang menjadi keapa di telah menderita karena tidak seorang yang lagi jadi posisi dari Reang masih tidak dipelitukan akan melanjutkan, Resmi di wartawan Andakum di membantu konsiden sedikit, dalam witus menyenjutkan penewat sampai pada tersebut, dan persen.\\nMelakukan Amerika Aspralisi 2003.\\n', '\\n')\n",
      "[49m 51s (8 39%) 1.5891]\n",
      "('KOMPAS.com - Kepada Penuntutnya juga menyatakan dua berkonfar seperti tersebut ini, pada musim ini di baca dan lain mengatakan bukan apa sehurah harus menggantikan kekeratan 50 pelatih pun melanjutkan banyak lanjut yang lain.\\nmenyelangkan awal Indonesia membuat pertannting dari tindakan perjalanan istinasi pe', '\\n')\n",
      "[51m 7s (8 59%) 1.8653]\n",
      "('KOMPAS.com - Balah Partai Partai dukungan kecil, yang menulis ambil kami berharap kontesaler permingka menjengarkan yang diikuti kepada grekan akan diperjika sangat diduga truka karena ditujukan Selaku langsung memiliki apa ketiga menjadi pertangunan ke lainnya dengan oleh permainan putar seperti ini tersebut', '\\n')\n",
      "[52m 32s (8 79%) 1.5680]\n",
      "('KOMPAS.com - Ketika cinta perusahaan yang dikeduakan pembawal dari salah pelatih dan kepada tengah diantara KSI berakhir The Naga di Senin berharga kami hari apalagi dari siapa pertama dicaliri saat ini berbagai asal yang ditandatangan bisa difer bahwa Indonesia persidangan di persen pada beberapa korentis In', '\\n')\n",
      "[53m 52s (8 99%) 1.4696]\n",
      "('KOMPAS.com, menjadi pertahanan tou tersebut.\\nSilan bersangkah upaya menganggur pencarikan ke Ranyo Indonesia,\" ujar Manalos Rabu (10/4/2010).\\n\"Tapi memiliki kepada mengaku (1cis) juga selengkapan atas 10 kehinyang dan secara Haldera, Jakarta, dengan dan ke Barat, Neguna baik setelah orang untuk mengungkapkan ', '\\n')\n",
      "[54m 59s (9 19%) 1.4589]\n",
      "('KOMPAS.com - Indengan saat ini mencuri lainnya dengan tersebut mati lalu tersebut menggunakan tak bergerak babak dan mengirim jekal,\" ujar ini ketika berharap ke pihak dibandankan dalam pria (win) di Sulayang mana acara saat disungkap pemilihan obernya.\\nSecara utama mengungkapkan ke Stadion Serencong B.\\nAssuk', '\\n')\n",
      "[55m 59s (9 39%) 1.4653]\n",
      "('KOMPAS.com - Kapanlagi.com - - Rusia kami sepakbil untuk pada pengenai pelatih membuat korban sepakplik satu uang selama itu mendewa pada Spartey pun ditasing, keman kebergukan sampai dua dunia.\\n\"Saya akan menjadi pertin dan rewen dan sangka lalu.\\nPashoap dan kapasisan tengah diperlongkapkan tapi pertandingan', '\\n')\n",
      "[57m 37s (9 59%) 1.6796]\n",
      "('KOMPAS.com - Bernyata lama yang merasa mengungkap seperti, karena tidak terjadi tentang dan bisa madanya.\\nDia dikenal memberikan akan memperbaikkan sebagai untuk mengurut satu tampil sebuah pertandingan arah hingga pembaan penggunaan di Jakarta.\\n\"Karena disegah mengatakan satu tuwat di di setiap aksi diminta ', '\\n')\n",
      "[58m 50s (9 79%) 1.5533]\n",
      "('KOMPAS.com - Undang menyerahkan dalam jangan tersebut ke kami tidak memang sebelumnya, molitis atau tim berhasil bisa tidak menundai hukumnya.\\nBerusaha dan tanpa terdakwa hingga pun direksi masih ramun akan mengalami kompetisi korban berusaha suara dengan pembeli telah mengungkap Pertama, Disantik seperti yan', '\\n')\n",
      "[60m 15s (9 99%) 1.5589]\n",
      "('KOMPAS.com - Ipol Tait.\\nSaat disabutkan pesat di pertandingan yang ditembak kemodurannya Avalsa semua dijadikan bagi sang milik jang ada semua anggota seorang selama cota dalam kancana kami banyak Alefrita Pakersebut, dan memberi harus membuntuhkan menghedang kami kepada pantai.\\n\"Pada Perkususan Inanen Jakart', '\\n')\n",
      "[62m 1s (10 19%) 1.5287]\n",
      "('KOMPAS.com - Kapanlagi.com - Maser Keluruhan dan kondisi bahwa masa untuk menyatakan tuntutan dikebahkan Pergi dalam resa pukul dari 50rensif sudah menggandiri Biakut, Malaysia (ESPS) menentukan sempat negara larinya, sempat memenangi arah dalam ke lawan lanjut,\" kata pasti mengatakan kepakitan dan kedua 1 ak', '\\n')\n",
      "[63m 38s (10 39%) 1.4710]\n",
      "('KOMPAS.com - Ke-12 pada mengeluarkan kemaksau searal dan bahwa menganggap tidak portor jalan pada 2 berusaha penggunaan korban enggak pembangunan dengan pelanggaran permainan posisi,\" katanya.\\nBukti kapasitas ke Brad, Polrinya ke Bonger.\\nPihaknya menyerungi tersebut berjunang proses pemain kasus kemumpulnya.\\n', '\\n')\n",
      "[65m 9s (10 59%) 1.7776]\n",
      "('KOMPAS.com - Kapanlagi.com - Saja ini ini terjadi.\\n\\n- Kapanlagi.com - Kapanlagi.com - Kapanlagi.com - Kostin nasional menyebut di sekitar lawan ke perempuan dari 2012humol tidak akan berani hal memenangi perlu sama sebaban pengelirian dan salah tahun Persebaya Pemberilangan Juni, Senin memiliki adalah Paslik.', '\\n')\n",
      "[66m 8s (10 79%) 1.5319]\n",
      "('KOMPAS.com - Korea tidak demikian seperti kami berbagai masa sta terkenal sangat sebagai anggota Whusb ini mereka bersimper saat winat membuat atau kerencanaan.\\n\"Mesti Tinitia Selatan Arib Pemerintah dan Champiar yang terhadap pengalaman pembangunan dengan dugaan final seperti dibuat saat ini menerima, dengan', '\\n')\n",
      "[67m 6s (10 98%) 1.4936]\n",
      "('KOMPAS.com - hal dilekiki.\\nBan.\\nSementar, korban mengikuti banyak hadi resmi ternyatanya.\\nKe pemberantasan pengharapan para wartawan tubuh jumlah harus bisa ditulis saat ini.\\nSetiap bahwa orang tangan ma bahwa para pertandingan p ke mengungkapkan di Disinasi Pasat menjadi saya akan menihisakan renjaran bagi s', '\\n')\n",
      "[68m 3s (11 18%) 1.5737]\n",
      "('KOMPAS.com - Kapanlagi.com - Kepala Alisas gang dia.\\nPersemuat bahwa perdana.\\n\\nMerdeka.com - Polisi Mersebole di Indonesia tidak melakukan pengembangan dulu keadaan musim di selisih kedua untuk mengembangkan apa sudah baik dengan pengusilan masuk pada New Amereka masih berikutnya.\\n\"Jadi ke Pasisting Komisi, h', '\\n')\n",
      "[69m 0s (11 38%) 1.6334]\n",
      "('KOMPAS.com - Kapanlagi.cam Alie mengembaran perikatan tersebut di lapangan,\" katanya Ronald 3 juru lain.\\nKetika membelikan tahun melakukan memeriksa karena Dua jaga baru terhadap kemarin Lawangan Rotan Barat.\\nSelain menjadi tim memantang.\\nKemintaan pendangan Indonesia dari luar tidak mencari yang pasaknya jug', '\\n')\n",
      "[69m 57s (11 58%) 1.5420]\n",
      "('KOMPAS.com - Kakata Keputidangan harus mereka.\\nItu pihak mengatakan usuhan plomontik dan ke di pelatik dalam pertama sebagai jalan pertama farfin masih memiliki kembali mengembalikan saat ini terindam akan nanti gelar perkempatan bakat bertampuk dengan mengatakan hadir bala.\\n\"Sepenji dari rakyat Rial, Abu Suh', '\\n')\n",
      "[70m 54s (11 78%) 1.5921]\n",
      "('KOMPAS.com -- Kapanlagi.com - Kapanlagi.com - Dengan seri Indonesia Suncembors pada telah menjadi peringkat yang tahun keras Roporatiung lagi terpulang perkara kunup di pencueri dengan sebelum tersebut di bersama kontrak.\\n\"Selain pembali sebagai sering pengguna kondisi yang masih berhadapan kami terus selompo', '\\n')\n",
      "[71m 51s (11 98%) 1.6294]\n",
      "('KOMPAS.com - Ketelah pun manya, yang disantaikan,\" ujarnya dalam pemudahan pertama yang dialami hakit di liter yang sama dua akan bernungkap pengagus pemain melawut yang beruntung tidak membantu sejak kontrak terhadap dengan serta lelah.\\nuntuk sama secara kepada Seyang Negeri Sakil Barul tengah bermain member', '\\n')\n",
      "[72m 48s (12 18%) 1.6172]\n",
      "('KOMPAS.com - Kapanlagi.com - Kapanlagi.com - Kapanlagi.com -  Komosi ini, kami mendapatkan ke pada Jakarta diperjama Mawadi Barat tentang juga ditempat ke pun akan mengatakan ia sebola,\" katanya.\\nHaria pemain yang berdamukan memerintahkan nomor terakhir yang diberitakan baru para kawasan ini menkerengankung s', '\\n')\n",
      "[73m 46s (12 38%) 1.5498]\n",
      "('KOMPAS.com - Kepolisian merah dengan penilaian kebika,\" keaman pembangunan dan Sislt Liguka Tahder, BSU yang akan membuat cihangkapan yang diandara kemenangan yang di Persebayakan Wakil Serikat dari luar lalu kemintaan juga akan dikutip rumah tidak tidak disangka ketika dia mendapatkan karena meningkatkan kek', '\\n')\n",
      "[74m 51s (12 58%) 1.5572]\n",
      "('KOMPAS.com - Pasangan pada pelatih mengingat serta kalau nama jelas pelatih peramuan PKF te politik dari bagaidan itu di karena harus timnya berlangsung diawankan kritik Kartang Persema (MK), pada saat ingin,\" juga mencapai dan sekitar harus menjadi wabina untuk mengaku melakukan sangat berharap di pada di Su', '\\n')\n",
      "[76m 5s (12 78%) 1.6752]\n",
      "('KOMPAS.com - Kapanlagi.com - Benerangan Indonesia yang melihat karena harus di dari Luar ketika satu Jakarta.\\nDari pernah dikelairan kendorang menyendatang kerja mengalami pengakuan lanjutan ke Mauyres Alieh yang colang.\\nPemain itu ini untuk berengan memaskkan keras menyatakan itu dan winaya Bangkar BAS BALAS', '\\n')\n",
      "[77m 14s (12 98%) 1.4409]\n",
      "('KOMPAS.com - Pemain ditemu tulnya sejak kasus dengan kemarin segala mendapatkan pengungsi serti Sadiad dua sebenarnya.\\nFerreksi di kaji kembali UP  mereka.\\n\"Panat yang diperdigan yang termasuk saja, apa ada kembali pembola pertama sampai Caslide semua menugulkan ke harus ada kritik agar mereka pada pasti jaga', '\\n')\n",
      "[78m 23s (13 18%) 1.3957]\n",
      "('KOMPAS.com - (SPM) di Garak Nigan dengan perusahaan Lansan dari sejak penjalan orang tetap hendak untuk mencapai fhinal Engraisi tinggal hanya (Jencona (Korusan Carat Berberat menyurut lain seperti di tahun di banyak terbaik akibat.\\nTraya di lalu.\\nPada Basal menalasi Cemp Rune, yang ke mendapatkan harap sekit', '\\n')\n",
      "[79m 24s (13 38%) 1.4771]\n",
      "('KOMPAS.com - Komisi Barayat, Sura, Salik tidak memeriksa nasional 2007 untuk mengaku menggunakan laga tundakan yang mereka akan menghadapi dan akhir tersebut, pengatahan anak visi lainnya diri di bantuan dengan selantang itu di keluarga pasangan persiapan.\\nFerran -- kepada saja di selalah banyak mengatakan me', '\\n')\n",
      "[81m 42s (13 58%) 1.5424]\n",
      "('KOMPAS.com. - Kapanlagi.com - Di Galah besar, pihak dan 5 harus memiliki orang (HIC) di sama,\" kata Peminta turun karena membuat Alto menggelar saya diantaranya dengan Spak tersebut kepada Sampin yang menginginkan Pernyata juga maju sementara dan mobil kan tadi akan menampilkan oleh berhasil mengatakan kebers', '\\n')\n",
      "[82m 55s (13 78%) 1.6934]\n",
      "('KOMPAS.com -- Kebangkatan .\\nSampai menambahkan harus mendukung alasan untuk saya dintah intansisi pengaruhan sudah lima beberapa pekan di wekatah tubuh bisa terhadap sepekaran.\\nSetelah s coker pernah adil stangan dari satu pemolih n sendirirasi dan sini disebut ketika di orang pekan terdisipkan perupaan perta', '\\n')\n",
      "[84m 9s (13 98%) 1.5448]\n",
      "('KOMPAS.com - Penalti kokusi juga penengahan dari harga pada angka tanggung dilakukan perlu memerip saat pelawan bagian sejak apayak keluarga sumpaknya.\\nKetia dalam mencatat dua ketika memang lebih akan layak.\\n\"Kami klub telah menganggap mereka dikebantikan pada penyangguman akan masuk berisih ini di musim den', '\\n')\n",
      "[85m 11s (14 18%) 1.4960]\n",
      "('KOMPAS.com - Pemilihan penghingan di meninggalkan 87 juta saya hanya ditandasi.\\nTapi diranah penghasilan satu tanah lampu hisat.\\nSedikit.\\n\"Namun, yang pada pengaturan terpisah memang ke Menteri Samer Sedatan, waktu harus berpanah dan mengilai pertama ga timnya terjadi sisa sejak menjadi satu diri dan melakuka', '\\n')\n",
      "[86m 13s (14 38%) 1.6328]\n",
      "('KOMPAS.com - Apara dalam masuk ini di Chelsea C mengatakan.\\nSeperti Garet Tanta Manchester Mastiderang, Selasa 2003 dan nilai hasil karian tidak menjadi perasaan ketika para diingin seperti ditantangan setiap saat meranjung peningkatan di lain, kami tim sebagai menang rumah pihak yang menjadi menambah saya da', '\\n')\n",
      "[87m 15s (14 58%) 1.6027]\n",
      "('KOMPAS.com - Pemberingan ini.\\n\"Setelah pada Dailyo,\" ujar, yang terjadi, pait berika Croundur dan Abdul ini dari 20 tahun hakim merah delapan dalam keamanan ini ditanda beberapa tidak juga memang dengan Hogya.\\n\"Semua akan agar akibat tersebut cubuhnya, mengumpulkan sebagai menemukan sang beberapa Lin Arsenol ', '\\n')\n",
      "[88m 16s (14 78%) 1.5632]\n",
      "('KOMPAS.com - Kapanlagi.com - tanggal pada pendera menggunakan proyek pasal akan mereka juara percaya,\" tanggung di banyak apa tlandang orang dari uang mengaku otemenang dan sudah disungkapkan kembali mengumpilkan pihaknya bersikap dari pun menengatkan pertama dari gail bentuk itu, kantor kami kembali lagi dir', '\\n')\n",
      "[89m 18s (14 98%) 1.6695]\n",
      "('KOMPAS.com - Timur yang tak akan mendapatkan yakni ingin mengambilnya pengatahan ke Naya lalu.\\nNamun.\\n(rpl)\\n\\nMercentogang uang dengan harus menjadi pemeriksaan sektom -- Kaman Soleston pada Kambar pungkutan mereka bernama keamanan terlalu dari kekalahan tersebut.\\nDi mulat saya sepanjang lalu,\" mungkin dia.\\nMe', '\\n')\n",
      "[90m 20s (15 18%) 1.8338]\n",
      "('KOMPAS.com - Kapangan persen, ketika berekan 12 partai menerbahkan pemerintah terpemun memberi pembuatan dalam bahwa hanya depan dari pembahasan suara datang terbalik di sebuah berparat Pranceralasan Kaka.\\nSebelumnya nama pasar untuk mengatakan tampil  tidak akan mengebahkan pembangunan polros dan saya dipers', '\\n')\n",
      "[91m 27s (15 38%) 1.5309]\n",
      "('KOMPAS.com - Kapanlagi.com - Presiden Jumat Arsenal orang kepada Unter-undiri Sobcionma semakin menyebutkan memiliki tinggi, dan berjir di lainnya di Silet Manchester (Sepersien (AR).\\n\"Atang lemahan agar penempatan dunia selalu akan mengajukan seberapa adalah investemen di Maraus dan untuk mengarahkan keteran', '\\n')\n",
      "[92m 32s (15 58%) 1.6987]\n",
      "('KOMPAS.com - Kapanlagi.com - Bampai, karena membawa dari Carudi (PT) selalu di angka tetap berakhir sual lebih dari Dunia Syancin tidak lalu sebagai saat tersebut, namun dilakukan awal penggunaan yang meminta pasar atal ini.\\n\"Sementara Selasa yang bisa menyatakan dengan dia melakukan dari pelaku opetasi tulan', '\\n')\n",
      "[93m 40s (15 78%) 1.6196]\n",
      "('KOMPAS.com - Saat pengusaha tak dikeluarkan pengamasan pada pun mengintara pertama tersesutu masyarakat dari sekati sempat lanjut,\" ucap Fudy yang berkarang khindung merimbat musim ini, kawasan itu, akan mengeluarkan pemerintah patah ini di adalah dokter perceraganan hukum di Anda,\" katanya.\\nDalam kegayaan ke', '\\n')\n",
      "[94m 55s (15 98%) 1.6666]\n",
      "('KOMPAS.com - Kependatang tersebut.\\nDalam pelatih kata di Asia Selatan sebagai colo.\\n\"Kami telah menyelambatkan tokoh masih direkupaya kenang pemain pasukan festivisi tas ganta resporembangan dingin pembertahan  di Rafak Indonesia, Mersecmini Anda terakhir disebut pemberantasan satu lebih di laga dengan memint', '\\n')\n",
      "[96m 1s (16 18%) 1.5061]\n",
      "('KOMPAS.com - itu sangat penggunaan atau belema lembang wasit dipermentahui.\\nPembelian penyelesaian asalnya beci dan satu trak bertahan masih ini, makin membuka penganah ke Luargen empat mengatakan saat pemerintah tiga bagi perkuatan yang untuk menghadapi dan membuat ada kontrisif pertingkap sebagai menyatakan', '\\n')\n",
      "[97m 5s (16 38%) 1.4677]\n",
      "('KOMPAS.com - Kapanlagi dari ke lainnya tersebut di bantu perdayaan di juga semua menyeungkap kepada sulit Banya Selasa (26/2/2012).\\nPenintap korban seperti bisa akan mendapatkan peringkat tempat masih dilakukan pukul PSSS tidak bahwa pengidungan pernyataan lima itu buruk mereka masalah dan dan negara tim Arse', '\\n')\n",
      "[98m 16s (16 58%) 1.7583]\n",
      "('KOMPAS.com - bertanding dia Em FU.\\nMegalahkan permainan uang setelah meningkat semua pendatang,\" patas Brg juga mengatakan, rapat-buat tank ketika menyatakan sebagian sangat mengatakan kemenangan berbantukan.\\nDalam untuk persen melakukan posisi di wartawan Demaki mengunjungkan selama pertaruk tersebut ditanda', '\\n')\n",
      "[99m 14s (16 78%) 1.7041]\n",
      "('KOMPAS.com - Kepala Asia dan Pemainnya.\\nSaat itu sudah di apangat yang melawan tidak termasuk peni,\" rekan sesuai dari penerukan bukan penggandang pasangan pengandingan kompotisi melekas, sama pemusaha.\\nSediai penganian pada terjadi pembagai Indonesia tersebut.\\nSementara hingga Kabit Perusahaan Jakarta, Ramad', '\\n')\n",
      "[100m 11s (16 98%) 1.6110]\n",
      "('KOMPAS.com - Beniselah dari pemain bersama pesempat.\\n\"Mantan penanggalan \"Mesti 22 50-0, BON, Jakarta, Jakarta, Kamis (14/12).\\nBabak tersebut dalam kalau Procik-- Bayang di Amang Timar (orang) mencetak kuk karena tertulis bagi tidak mendatangkan saat lain negara perturukan resia yang berpada yang berasal dan ', '\\n')\n",
      "[101m 9s (17 18%) 1.4635]\n",
      "('KOMPAS.com - Kapanlagi.com - Kapanlagi.com - Bantu yang ditemui, keteratukan dari terjadi di kita mereka akan mengingat mone yang berat pandangan teman utama dan kandang membuat Adoniono mengungkap kami.\\n\"untuk kedua pelatih tundung yang diri kesempatan pembuatan penjasaran itu, dan tahun itu untuk mengalami ', '\\n')\n",
      "[102m 49s (17 38%) 1.5282]\n",
      "('KOMPAS.com - Sebagai yang diawadangkan pengamasan mobil baik lagiiagia yang menyerahkan kedatangan Caskil adalah upaya Hottlon menghadapi negara mengalami dengan apa angka sebesar tentang kembali mengagai pengaku menghadapi dari pesestinya tersebut,\" kata Inggris tersebut.\\nDia mengimpingan perusahaan.\\nDalam k', '\\n')\n",
      "[104m 47s (17 58%) 1.5143]\n",
      "('KOMPAS.com - Bang kuntung Ali pada sejaknya seama tersebut, asser mengelalui memberi kami akan membaga jadwaran dan menilai lainnya.\\n\"Saya untuk menjadi para kedua pama dengan kami cantik membesarkan mana di dalam suara dengan semati tarik yang sendiri di nama Nasional (WKI), Elmas Cina (14/2).\\n\"Kalau kenal t', '\\n')\n",
      "[105m 58s (17 78%) 1.3002]\n",
      "('KOMPAS.com - Seperti di lawan itu, atau penyelesaian dari pembuat, yang dibuat korpalikus yang sudah dicartaikan laga tidak mengudah kembali, saya menjadi menjaal dan pangkalan dengan pusu yang diterutusan banyak mengalami atas kualitas dari namun, bahwa wenggu Hendeng (EL/M)\\n\\nMerdeka.com - Papa satu berupa b', '\\n')\n",
      "[107m 9s (17 98%) 1.6311]\n",
      "('KOMPAS.com - Incor seperti sangat menguruskan pertama Kota Tamp (24/002), untuk melakukan dan sering menggenal yang disantam lama Esiter bersama tersebut melakukan pernyataan terlihat kesuaraan memampukan lenes Pergeri selantung ke akan mengintarkan mengatakan kempat ke Polti memi.\\nDia rencana ia kembali bagi', '\\n')\n",
      "[108m 12s (18 18%) 1.7742]\n",
      "('KOMPAS.com - Bedan pendapat akan membangun total yang dimerahkan si masih pemain ditemukan Sstapraat menegaskan masalah sebagai pihak Pelayaran SBCurde Pengenang Juni Barca Narang, mengaku pengembangan kehirngan terbukti diperkirakan pemain karena 40 terodoh ada di Indonesia (13/7/2010).\\nAda agambah ini menor', '\\n')\n",
      "[109m 18s (18 38%) 1.3709]\n",
      "('KOMPAS.com - Saya salah pasti kesiaran dari saya didalam perlu berpernah di berpanjang tersebut lagi yang mengaku menghadapi dua hukum dan bahwa Kaius diatur Iran Banger sodian tersebut mengidum kembali menerima korban mereka mengembongkan jangka bersama terlepas, enggakan hanya timnus yang bertadi yang dimil', '\\n')\n",
      "[110m 27s (18 58%) 1.5289]\n",
      "('KOMPAS.com - Irep Kota Dolico sadar kasus tidak berbeda seperti 12 terdaku yang diberitakan anak dari perlu dan diukut ke calok kepada antara Losg Perguatan (WP) ini ada dan pemerintah kekebangan sebelumnya di sendiri.\\n\"Di masih sama tahun karena pada bisa mencapai politik kepertumbuhan pertama telah dimakan ', '\\n')\n",
      "[111m 37s (18 78%) 1.5240]\n",
      "('KOMPAS.com - Secerah ganti Indonesia Egarung, Marwar bersama untuk menganggap pengurepan, App kamiten tahun i pelatih itu, kali memiliki adalah lama mereka akan memiliki ke Doden 2008.\\n\"Silah bentuk formasinya.\\nNamun jendik dengan perkombangan impam asal mereka bisa mendatang bahwa Presiden Altfika.\\nIkan bern', '\\n')\n",
      "[112m 50s (18 98%) 1.4571]\n",
      "('KOMPAS.com - Kebelisaranan, sehingga membuat pertama serta keras ini Anda dikenalnya bangsa dalam pertandingan di melari, di internasional yang memiliki stasional Cia media.\\n\"Pelatih Bongkok menuturkan pemerintah Mensteribaten masa berlalu.\\nDari asal bisa menambahkan memberikan Ilthang, juga tampil keluarga m', '\\n')\n",
      "[113m 56s (19 18%) 1.7066]\n",
      "('KOMPAS.com - Kepada terkait bisa bagi hasil kepada peridukan dilekcar di tapi dialam pada selang dengan karena kami terang jolah mengajukan kepada 30 pertandingan pelatih Utara dengan sebelum bisa ditulum penyelidikan di ini bersemain yang disebutkan sebelum mereka di berharap keluarga maksim dan pembangunan ', '\\n')\n",
      "[114m 56s (19 38%) 1.4721]\n",
      "('KOMPAS.com - Kepala Bila 6 CPM hadir kempat ganter yang digenal budaya kembali dirinya karena disebut,\" kata Jumat (27/3).\\n\\nMerdeka.com -- Papuan ketika akan menarik dalam sebenar tersebut, kata ini.\\nKita mentatang kesurbangan juga orang penjara hasil mereka memancam capari Derim Punch jalan ini selama hengan', '\\n')\n",
      "[115m 59s (19 58%) 1.6806]\n",
      "('KOMPAS.com -  Bidina 2012 banyak masyarakat hitam, berkembali pada tulang, sekitar tahu akan mengindak mengatakan kekuat pasar dari Coyon Persepat Jumat (26/5/2010), terakhir terkelub memberikan per mahasilir pedatung andaran dan musim bertahan ada tidak menjama pembukaan yang dihadipingkatan setiap di tak ba', '\\n')\n",
      "[117m 7s (19 78%) 1.5022]\n",
      "('KOMPAS.com - Pemberitaan persen, dari harus membuka sekitar Komencapai Satemah birang sebelum di lalu, ke dan mereka cepat menunda, lanjutnya karena kesalahan.\\n\"Ada mengecurkan aku pengenaian libat pengatuhan barang penurunan baru kepada para atas kuat juga diturunan November dan Dia Kupang, Indonesia Adti 20', '\\n')\n",
      "[118m 15s (19 98%) 1.3408]\n",
      "('KOMPAS.com - Tapi yang menggambil dengan di Pelatih anak lebih delapan, kali itu seperti dia di juga memastikan kekuatan aktif sebelum mengember.\\n\"Salah pada akan menerima untuk menendang enan di perundangan oerors jelas alu dan 2002 ini makann Dirikut Surubah Aleg, sebagai Direktur di Ketua Hagan Persigasan ', '\\n')\n",
      "[119m 20s (20 18%) 1.5974]\n",
      "('KOMPAS.com -, Kabupaten Pembuung Dula mengenali Eropa.\\n\"Kami membawa pembayaran keselatan, kemudian dan sebagai seperti bertahan pengalaman kali.\\n\"Saya dilakukan pelatih pertemuan di membuat masyarakat kepada menjadi nilagi Newolo.\\nDigintang terlebih harus melawan akan di seperti mengatakan pembolakan bayi pe', '\\n')\n",
      "[120m 29s (20 38%) 1.3372]\n",
      "('KOMPAS.com - Pada akan mereka turun sudah menyakit kasus di lama.\\n\"Sebesar Jusher United Leenar (orang (rumun) di Minggu (2n/r/rgs)\\n\\nMerdeka.com - Bakar Selatan, Pasal tersebut.\\nH-wang Dusu Barat.\\nwarga suatu ini hanya menyatakan seperti ini.\\nMenurut Partai Senin 2011.\\n(7/u) mengatakan kokatan 21,6 pagi, Indo', '\\n')\n",
      "[121m 37s (20 58%) 1.8087]\n",
      "('KOMPAS.com - Persia rumah.\\nSaya tidak menilai untuk mereka tidak aku tambah singkat menjadi kepada kali kembali terakhir,\" tahun mencetak bagus dari menembutkan sebesar dan sini dimulemerbasik pilahan, keluarga mengatakan towoh petenim banggi itu.\\n\"Kami belum memiliki ke sebesar lanjutnya,\" ujarnya lantasnya.', '\\n')\n",
      "[122m 49s (20 78%) 1.5821]\n",
      "('KOMPAS.com - Seyang dikenal bahwa sebagai tapi 24 Tisa Senin sepenyaik Alavini Persio satu produk lain ini dan umum sekitar.\\nJadi \"hukum kepada menjadi tekner eperti ke kembali hari bagi selama atau hanya mengunggap warga pemberitaan dari peluang pada depan bahwa yang tidak bisa dibasali saya menunjukkan untu', '\\n')\n",
      "[123m 57s (20 97%) 1.4575]\n",
      "('KOMPAS.com - Kapanlagi.com - Kapanlagi.com - Begitu okoh samu renhat dalam ke pelaku batas dengan sekali.\\nMenurut pertandingan,\" ujarnya dia mengenai kecamatan adalah terdapat dan waktu semua musim ada akuntan Dedar seperti tinggi jika saya menyatakan kerang di Bandung Mekatnya menunjukkan pemain itu menurunk', '\\n')\n"
     ]
    }
   ],
   "source": [
    "start = time.time()\n",
    "iters = 0\n",
    "decoder.train()\n",
    "for epoch in range(1, n_epochs + 1):\n",
    "    start_index = 0\n",
    "    hidden, cell = decoder.init_hidden(batch_size)\n",
    "    while start_index + chunk_len * batch_size < len(data):\n",
    "        inp, target = generate_batch(start_index, chunk_len, batch_size, data)\n",
    "        hidden, cell = repackage_hidden(hidden, cell)\n",
    "        loss, hidden, cell = train(inp, target, hidden, cell)\n",
    "        \n",
    "        if iters % print_every == 0:\n",
    "            print('[%s (%d %d%%) %.4f]' % (time_since(start), epoch, ((start_index) * 1.0 / len(data)) * 100, loss))\n",
    "            decoder.eval()\n",
    "            print(evaluate('KOMPAS.com', 300), '\\n')\n",
    "            decoder.train()\n",
    "\n",
    "        iters += 1\n",
    "        start_index += chunk_len * batch_size\n",
    "    if(lr > 1e-14):\n",
    "        lr /= 2\n",
    "with open('saved_model/checkpoint_100.tar','w') as ckpt:\n",
    "    torch.save(decoder, ckpt)"
   ]
  },
  {
   "cell_type": "markdown",
   "metadata": {},
   "source": [
    "## Result"
   ]
  },
  {
   "cell_type": "code",
   "execution_count": 5,
   "metadata": {
    "collapsed": false
   },
   "outputs": [],
   "source": [
    "decoder = torch.load('saved_model/checkpoint_100.tar')"
   ]
  },
  {
   "cell_type": "code",
   "execution_count": 44,
   "metadata": {
    "collapsed": false
   },
   "outputs": [
    {
     "data": {
      "text/plain": [
       "RNN (\n",
       "  (encoder): Embedding(100, 120)\n",
       "  (lstm): LSTM(120, 120, num_layers=3, dropout=0.5)\n",
       "  (decoder): Linear (120 -> 100)\n",
       ")"
      ]
     },
     "execution_count": 44,
     "metadata": {},
     "output_type": "execute_result"
    }
   ],
   "source": [
    "decoder.cuda()"
   ]
  },
  {
   "cell_type": "code",
   "execution_count": 118,
   "metadata": {
    "collapsed": false
   },
   "outputs": [
    {
     "data": {
      "text/plain": [
       "RNN (\n",
       "  (encoder): Embedding(100, 120)\n",
       "  (lstm): LSTM(120, 120, num_layers=3, dropout=0.2)\n",
       "  (decoder): Linear (120 -> 100)\n",
       ")"
      ]
     },
     "execution_count": 118,
     "metadata": {},
     "output_type": "execute_result"
    }
   ],
   "source": [
    "decoder.eval()"
   ]
  },
  {
   "cell_type": "code",
   "execution_count": 24,
   "metadata": {
    "collapsed": false
   },
   "outputs": [],
   "source": [
    "inc = 0.05\n",
    "result = \"\"\n",
    "result2 = \"\"\n",
    "for i in range(10):\n",
    "    result += evaluate('Kompas.com', 500, temperature=0.4+inc) + \"\\n \\n\"\n",
    "    result2 += evaluate('Merdeka.com', 500, temperature=0.4+inc) + \"\\n \\n\"\n",
    "    inc += 0.05"
   ]
  },
  {
   "cell_type": "code",
   "execution_count": 25,
   "metadata": {
    "collapsed": false
   },
   "outputs": [
    {
     "name": "stdout",
     "output_type": "stream",
     "text": [
      "Kompas.com - Kapanlagi.com - Pemain itu terbaik dari seharus di keras dari pasing pertandingan dengan selama di saja terjadi tidak memberikan untuk membuat lain demikian.\n",
      "Dia mengenakan ke Netaria berdasarkan setelah tersebut dia sendiri ke Balan pernang di Tone pengangkutan lalu.\n",
      "Sebelumnya di Kota Kamis Partai Kamis (20/2/2012).\n",
      "\"Kita meminta kendaraan itu, Anda adalah pertanyaan pembuatan dan pemain terbaik di sendiri karena akan mengatakan sebelum semua penyidik kekuatan itu tersebut diterima kendati \n",
      " \n",
      "Kompas.com - Riyang dan melalui sebelum mengetahui penyelenggaraan serangan penjara pertama dan tersebut dia terakhir.\n",
      "\"Saya merikat percaya tertah menyatakan selama bagi bagian dan terus menjadi pertama selurungan dengan perlaya sangat dari tersebut sebagai pada percaya ketua final apa tanjang pertama setambahan sebagai pemerintah dengan kelembaikan mengatakan kemain berada sedikit sebagai di Selasa (HAS) menarah di Motel pembeli dan salah bersama setiap di Bandung (24/1/2012).\n",
      "Menurut Rabu (13/01/2009).\n",
      " \n",
      "Kompas.com - Sanggal pertama penunda menyelangkan pernah mereka sudah di sidang menunggu nasional pertandingan peringkat di kita mengalami dia dapat berpertama dari para ketain kepada dan sama tersebut, sangat terdilat bakar dengan barang dan merupakan kepada sendiri dan menyangkat ke Badan menunjukkan berharap penjualan serta seperti itu tersebut.\n",
      "\"Saya memberikan pertandingan penyelemahan tanda pemain seperti yang lalu, mengatakan tidak diberitakan pemain bersebagai kepada panas itu melakukan penutupan \n",
      " \n",
      "Kompas.com - Kapanlagi.com - Kapanlagi.com - Kapanlagi.com - Kapanlagi.com - Persendaraan mengatakan akan akan dibandingkan pembaris di anak piring panjang kenang tersebut.\n",
      "\"namun masalisa juga membantah ke luar sunasi dengan turun harus sendiri.\n",
      "Namun akan membawa tersebut.\n",
      "Menurut menjadikan sebagai uang ke Bapilan, Selang Dani Telaki, Bengerari Senin (2/011).\n",
      "Politer Partai Kamis, Jakarta, akan menghadapi peringkutan politik akan mengatakan pertandingan berhasil mengalami ke marat pembali penerupang di\n",
      " \n",
      "Kompas.com - Kerangsung Gaak tersebut menunggu mengharta kita kualitas menyebarkan tersebut dilakukan permainan antara keperluan di Jakarta, Seri Jakarta Ahrion ini memberikan para pemerintah saya di melekti mendukung dengan mengatakan seperti mengatakan perumahan yang tidak akan dilakukan menyiatkan ada nama di bagian pemain rengkan dan karit di Selaksi mengungkapkan kepada Pernah menyebut sedang terpakai mendatang perlu penghalan Perbantaan itu lalu dirinya saya biaya sekorang tangan terjadi tengah peng\n",
      " \n",
      "Kompas.com- atau baru menjadi ketat tembahnya.\n",
      "\n",
      "Maid dan penggumbangan membahal terjadi tentang mengujutkan terseng dilantir dan mendapat pernah menulut tahun dengan pasaran,\" tuturnya pendapatan dan mengadakan akan di langhang Senin (dikonya (BM) menyatakan di Dera Bandang Indonesia Anda di Korupti di 17 mejaukan dari ektim anggota penembakan kemana lebih kepada fit laporita dipenyimbai antara lebih diberi dunia.\n",
      "Berakhir pemuda metanda sejak untuk mengaku bakal hanya langsung banyak yang mendapatkan per\n",
      " \n",
      "Kompas.com - Kapanlagi.com - Kami Saens dan situs pembarakan Nional Rabu.\n",
      "Menurut Relaporsi ini dengan peratuman pengaturan (Falik),\" kata Redang harus menyelahi cencor hanyakan sendiri dalam pembeli masuk pada keeluarangan sekitar dalam beradak melakukan dari 1cean ini bagus kepada mengakui yang dipada penjelasan permb kata Peluangkan saat sampai di Bangtu (9/2/2012).\n",
      "Kemumungan bahkan kesengakatan turan tadi pada tersebut dilengkur di Sutatinanto, Jengan yang berangkat banghar anggota DAB yang digelar k\n",
      " \n",
      "Kompas.com -- \n",
      "Akan sedikit.\n",
      "\"Kami menunjukkan kedua di benterbaga.\n",
      "Dia membanding awal pengadaan hanya singkat besar dari \"Selakukan mengenai di Slio Sarasi PreRadung ini terpilih turun dan awal lain ini sudah juga tentu dikencaran ke akan melakukan penjasaan depan, dan kontrak semua sejak rakyat nyatanya, Mayuri membangyang ambang filvisasi dana baiknya.\n",
      "Beranternasional Gedang Persebiat.\n",
      "Pentingna yang ditesaukan seperti ini menghanggu mempertinggungi pelaksan tentap Sojel mengampili yang dilimakan pol\n",
      " \n",
      "Kompas.com - Keponcoer mengaku berasal bersiap mengatakan tidak bis naik yang terakhir dengan yang mengingak jaing di sempat Jakarta Bisa (*/dar)\n",
      "\n",
      "Merdeka.\n",
      "Menemukan bahasa namun rambing kalau pada Midan Jumat.\n",
      "Kolakatimenar berpasal khusus adalah semuaa setelah masa juga berkerabta kerupsidan Maling Torses, B4 rola, satu tetap terhadap permenangan pandangan pembuatan dan saat lari lapor banyak dari mulai nyaman janda mengacara pemberantasan termasut kerasnya.\n",
      "Wiharan mendapat cilo Tocte, berkait pertunya\n",
      " \n",
      "Kompas.com - Kawan ot olles kepada wianggal Liga.\n",
      "\"Mendasar 126 dan perherungkatan kepada.\n",
      "\"Sulat masih tidak bahwa pada kali berujawisi spi mengimpung tarik sekorang gaing.\n",
      "Jalip yang memang berjarangan maser dikalahi dinia dapat berharap tersebut mengatakan.\n",
      "Itu berjilan hasil dapat menghauruh cukup kontongan maksalahan senang dunia, Rumas Polusken Capalat dan Butralu gerikan bost memiliki itu beberapa karena mencari sewais kepada musuk pernendangan pantai orang itu Jakarta Delan dan Jemana, dibahapikan\n",
      " \n",
      "\n"
     ]
    }
   ],
   "source": [
    "print result"
   ]
  },
  {
   "cell_type": "code",
   "execution_count": 26,
   "metadata": {
    "collapsed": false
   },
   "outputs": [
    {
     "name": "stdout",
     "output_type": "stream",
     "text": [
      "Merdeka.com - Kapanlagi.com - Pengamas Hernah dan pertama di lalu, semua tersebut di selama ke Pinggaran, mengatakan mengatakan ke Rasa kepada Anda berikut pertandingan membuat kemarin di banyak mereka tidak terbaik dan menggangikan akan mendapatkan pemerintah penjara ini tidak bertahan pertandingan pada setelah pertama berbangunan di ke kami di sementara di depan, ketiga siap pertama ini berlangsung sebelum mengenai kepada tersebut mengatakan kepada kepelayanan dan dalam kepada sebagai pertandingan itu me\n",
      " \n",
      "Merdeka.com - Kepana Angga dan aku pemerintah setelah penyidikan pertama.\n",
      "Sebelumnya sebagian dan sebagai di satu perusahaan di Malang memiliki pernyataan ini mengenai banyak akan beridangan pertama di politik itu memberikan ketika kembali mengatakan ke dari tersebut di pertama menyangka kembali menyelesaikan tahun dan memang bersama dan sekitar Senin (1/3/2012).\n",
      "Sadar ada itu di dan tersebut sekitar mengenai saat tersebut.\n",
      "\"Dalam sama seberang kepada Soolo tersebut mengatakan penjualan di kontrak sebagian\n",
      " \n",
      "Merdeka.com - Setelah mengalami persen akan mengembangkan pengungsi mengakui dia mengatakan ke Pembangunan di Andi dengan perusahaan ini ditemukan perlu ini, satu seasar dari perang di gapanan dengan gelar ini di perilikut mengakui persoalan dan tidak terpalah ini melambut sebelumnya yang mereka bersama perang sendiri, sempat menyerat kembaringan berseberah di babak sadang bahwa mencapai ke karena menggunakan pelangkan mengenaikan kasus yang dilakukan dan sebagai kesehatan persebut sepah tersebut di banyak\n",
      " \n",
      "Merdeka.com - Dia masih membarih masalah lantas di ke putaran dan mereka memang adalah kedua mereka mereka dari ahlai dari orang kami mengatakan, kalau tersebut menghentan.\n",
      "\"Kalau ini mengungkapkan pelaksanaan belum menyatakan perluakan banyak berhadapa berbagai setelah pun merepakan pelakanan, eksis dan Sabtu (28/9).\n",
      "\"Memenuhi pada satu kota di stadian menghadapi tersebut mengaku kerja berhadap dari secara tersebut.\n",
      "Dia kemomentian dan tersebut di antara ini menjadi rangan.\n",
      "\"Sebelumnya.\n",
      "\"Kami ini saat ini\n",
      " \n",
      "Merdeka.com - Kapanlagi di dan memberi mereka dikabarkan bersemain begisinya dan rapat menenjara ini sekali, memaskin selanjutnya ditahan untuk dikenalian dan kalah di Partai Selatan Wahil Umlor Al di Kamis Sabtu.\n",
      "Saya kemenangan rasa pemberantasan perlindongan dalam semua ikut ada, sekitar telah memberikan di dan pengurus yang berlangsung menghadapi menyatakan hasil dan pembesik kemudian penting dan ada antara pelatih penyebalian dirinya menunggunya kesejamatan apalagi menghadapi pertamannya yang dipoliks\n",
      " \n",
      "Merdeka.com - Manager Partai (1/0/2012).\n",
      "Coblon mengena kemenangan orang mengunggu kita sebagai selama tersebut mengembangkan Kontor Selatan (20/4/2012).\n",
      "Mereka yang menjadi tahun desa kita dari bangkis menghungkal warga pelaku.\n",
      "Pada lebih sekali termendapat namun dengan pernyataan terbaik dan memilihkan mengatakan anak mengaku ada sejak menyambui di dalam saat ada luar terlebih dan terakhir dari akan mengadakan ke harus melakukan pemerintah Kota masuk Tove Kola di Supang Rimor Cp Dakri Penurutan Suraya Op\n",
      " \n",
      "Merdeka.com - Terakhir, Anda Amily sejaratan wartawan alas saya berkemangan di Acedern Mraga yang selalu bisa berpasar di lebih menumping pertemuan berlubang setelah serpetikasi dan sebelumnya juga memberikan persen saya dari oleh dengan permainan dari beberapa segera mendapat jan atas sersana dengan sebagian termasuk mereka melaporan, hol jauh pesangan tahun seperti dalam kedua pemulan DPR dan menghaliri dan tahap anak menangkap pengatanan ini terjadi diselamingan latasi bercama secara tak kata Fhen yang \n",
      " \n",
      "Merdeka.com - A913 catat yakinan diselarankan kukusan tersebut hal ingin dibertakankan mengintarnya menjamin, bengan kekidaan gol satu saya menegaskan Bermani Red Bartan.\n",
      "Tapi, saya kalau tiap maka serta di lagi selanjutnya beranda sangat memperpahkan sebaru, setelah pemainingan campil dalam hasil belum pengguna berpereksi bernomor di Mampinngen.\n",
      "Dalamgapi perni menjadi pembangun tuan dan ditani itu terakhirnya dan awal para awal dia lain sekarang padang atau dikelakankan di keluar mendekatkan kita suatu s\n",
      " \n",
      "Merdeka.com - Huturah dan baru jika pikut karena kalah dan setelah dari tampak bulan yang keguanya pitang pengagama dan lanjut.\n",
      "Persen beryalang kami itu adalah kalah mengemangi pertambahannya.\n",
      "Namun musim dengan Hemeraha Hentersac M narke dalam permasa.\n",
      "Dengan peluang, dalam penggang Totioni menjadi Loury dan semua Silgaringtas menimpi guerang te dunial awal.\n",
      "\"\n",
      "Ini akhir untuk pengkutitan rekor sejak pernah-melakukan serta hanya pergurungan begitu anak-tim tahun yang pemerintah meroorg.\n",
      "\"Kami pang kanjuku\n",
      " \n",
      "Merdeka.com - 1,\" telah repan dengan harus mendalami anterang.\n",
      "\"Itu tidak berita memiip ke-celaran makan, Apung Indonesia kata kepada Silacak agar yang berparaya (SWE) diberat jawaban apada disambuhkan membuat persita ju,\" katu Barcelsen Bacel Demokratin, ekkunyi muka Thelentor menyarangkan pemberataan tambahnya.\n",
      "Mana berke jalang yang depan.\n",
      "Sertaiga dari latihan yang pertandingan bahwa Broset langsung banyak tersebut dengan dan Gabyan, memang peringinan 5 hanya dijaga pengandung prosup menghadapi menjadi\n",
      " \n",
      "\n"
     ]
    }
   ],
   "source": [
    "print result2"
   ]
  },
  {
   "cell_type": "code",
   "execution_count": null,
   "metadata": {
    "collapsed": true
   },
   "outputs": [],
   "source": []
  }
 ],
 "metadata": {
  "anaconda-cloud": {},
  "kernelspec": {
   "display_name": "Python [default]",
   "language": "python",
   "name": "python2"
  },
  "language_info": {
   "codemirror_mode": {
    "name": "ipython",
    "version": 2
   },
   "file_extension": ".py",
   "mimetype": "text/x-python",
   "name": "python",
   "nbconvert_exporter": "python",
   "pygments_lexer": "ipython2",
   "version": "2.7.12"
  }
 },
 "nbformat": 4,
 "nbformat_minor": 1
}
